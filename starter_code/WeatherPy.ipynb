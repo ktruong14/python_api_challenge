{
 "cells": [
  {
   "cell_type": "markdown",
   "metadata": {},
   "source": [
    "# WeatherPy\n",
    "----\n",
    "\n",
    "#### Note\n",
    "* Instructions have been included for each segment. You do not have to follow them exactly, but they are included to help you think through the steps."
   ]
  },
  {
   "cell_type": "code",
   "execution_count": 1,
   "metadata": {
    "scrolled": true
   },
   "outputs": [],
   "source": [
    "# Importing dependencies\n",
    "import matplotlib.pyplot as plt\n",
    "import requests\n",
    "from scipy import stats\n",
    "import pandas as pd\n",
    "from citipy import citipy\n",
    "import numpy as np\n",
    "from api_keys import weather_api_key"
   ]
  },
  {
   "cell_type": "code",
   "execution_count": 2,
   "metadata": {},
   "outputs": [],
   "source": [
    "output_data = \"output_data/cities.csv\""
   ]
  },
  {
   "cell_type": "markdown",
   "metadata": {},
   "source": [
    "## Generate Cities List"
   ]
  },
  {
   "cell_type": "code",
   "execution_count": 3,
   "metadata": {},
   "outputs": [
    {
     "data": {
      "text/plain": [
       "588"
      ]
     },
     "execution_count": 3,
     "metadata": {},
     "output_type": "execute_result"
    }
   ],
   "source": [
    "lat_lngs = []\n",
    "cities = []\n",
    "\n",
    "lat = np.random.uniform(-90,90,1500) \n",
    "lng = np.random.uniform(-180,180,1500)\n",
    "lat_lngs = zip(lat, lng)\n",
    "\n",
    "for lat_lng in lat_lngs:\n",
    "    city = citipy.nearest_city(lat_lng[0], lat_lng[1]).city_name\n",
    "    \n",
    "    if city not in cities:\n",
    "        cities.append(city)\n",
    "\n",
    "len(cities)"
   ]
  },
  {
   "cell_type": "markdown",
   "metadata": {},
   "source": [
    "### Perform API Calls\n",
    "* Perform a weather check on each city using a series of successive API calls.\n",
    "* Include a print log of each city as it'sbeing processed (with the city number and city name).\n"
   ]
  },
  {
   "cell_type": "code",
   "execution_count": 4,
   "metadata": {},
   "outputs": [],
   "source": [
    "# Performing API call\n",
    "url = 'http://api.openweathermap.org/data/2.5/weather?'\n",
    "units = 'metric'\n",
    "query_url = f'{url}appid={weather_api_key}&units={units}&q='"
   ]
  },
  {
   "cell_type": "code",
   "execution_count": 5,
   "metadata": {
    "scrolled": true
   },
   "outputs": [
    {
     "name": "stdout",
     "output_type": "stream",
     "text": [
      "Beginning Data Retrieval\n",
      "-----------------------------\n",
      "Processing Record 1 of Set 1 | san rafael del sur\n",
      "Processing Record 2 of Set 1 | sao joao da barra\n",
      "Processing Record 3 of Set 1 | port alfred\n",
      "Processing Record 4 of Set 1 | vaini\n",
      "Processing Record 5 of Set 1 | vozhega\n",
      "Processing Record 6 of Set 1 | alihe\n",
      "Processing Record 7 of Set 1 | bambous virieux\n",
      "Processing Record 8 of Set 1 | roald\n",
      "Processing Record 9 of Set 1 | karratha\n",
      "Processing Record 10 of Set 1 | new norfolk\n",
      "Processing Record 11 of Set 1 | mwinilunga\n",
      "Processing Record 12 of Set 1 | tuktoyaktuk\n",
      "Processing Record 13 of Set 1 | atuona\n",
      "Processing Record 14 of Set 1 | torbay\n",
      "Processing Record 15 of Set 1 | anloga\n",
      "Processing Record 16 of Set 1 | ponta do sol\n",
      "Processing Record 17 of Set 1 | khatanga\n",
      "Processing Record 18 of Set 1 | hilo\n",
      "City not found. Skipping...\n",
      "City not found. Skipping...\n",
      "City not found. Skipping...\n",
      "Processing Record 19 of Set 1 | ngunguru\n",
      "Processing Record 20 of Set 1 | piritiba\n",
      "City not found. Skipping...\n",
      "Processing Record 21 of Set 1 | rikitea\n",
      "Processing Record 22 of Set 1 | vila velha\n",
      "Processing Record 23 of Set 1 | punta arenas\n",
      "Processing Record 24 of Set 1 | kamiiso\n",
      "Processing Record 25 of Set 1 | ushuaia\n",
      "Processing Record 26 of Set 1 | carbondale\n",
      "City not found. Skipping...\n",
      "City not found. Skipping...\n",
      "Processing Record 27 of Set 1 | ribeira grande\n",
      "Processing Record 28 of Set 1 | pochutla\n",
      "Processing Record 29 of Set 1 | jamestown\n",
      "Processing Record 30 of Set 1 | busselton\n",
      "Processing Record 31 of Set 1 | fairhope\n",
      "Processing Record 32 of Set 1 | beringovskiy\n",
      "Processing Record 33 of Set 1 | hovd\n",
      "Processing Record 34 of Set 1 | constitucion\n",
      "Processing Record 35 of Set 1 | bowen\n",
      "Processing Record 36 of Set 1 | namatanai\n",
      "Processing Record 37 of Set 1 | hobart\n",
      "Processing Record 38 of Set 1 | naze\n",
      "Processing Record 39 of Set 1 | faanui\n",
      "Processing Record 40 of Set 1 | norman wells\n",
      "Processing Record 41 of Set 1 | belyy yar\n",
      "Processing Record 42 of Set 1 | ancud\n",
      "Processing Record 43 of Set 1 | airai\n",
      "City not found. Skipping...\n",
      "Processing Record 44 of Set 1 | nenjiang\n",
      "Processing Record 45 of Set 1 | pasighat\n",
      "Processing Record 46 of Set 1 | pacific grove\n",
      "Processing Record 47 of Set 1 | marihatag\n",
      "Processing Record 48 of Set 1 | andra\n",
      "Processing Record 49 of Set 1 | victoria\n",
      "Processing Record 50 of Set 1 | biswan\n",
      "Processing Record 0 of Set 2 | petropavl\n",
      "Processing Record 1 of Set 2 | bredasdorp\n",
      "Processing Record 2 of Set 2 | bantogon\n",
      "Processing Record 3 of Set 2 | bethel\n",
      "Processing Record 4 of Set 2 | aklavik\n",
      "Processing Record 5 of Set 2 | kapaa\n",
      "Processing Record 6 of Set 2 | ngong\n",
      "Processing Record 7 of Set 2 | egvekinot\n",
      "Processing Record 8 of Set 2 | nha trang\n",
      "Processing Record 9 of Set 2 | tuatapere\n",
      "Processing Record 10 of Set 2 | novobirilyussy\n",
      "Processing Record 11 of Set 2 | albany\n",
      "Processing Record 12 of Set 2 | gamba\n",
      "City not found. Skipping...\n",
      "Processing Record 13 of Set 2 | kirensk\n",
      "Processing Record 14 of Set 2 | mys shmidta\n",
      "Processing Record 15 of Set 2 | arraial do cabo\n",
      "Processing Record 16 of Set 2 | korla\n",
      "City not found. Skipping...\n",
      "Processing Record 17 of Set 2 | knysna\n",
      "Processing Record 18 of Set 2 | hamilton\n",
      "City not found. Skipping...\n",
      "Processing Record 19 of Set 2 | east london\n",
      "Processing Record 20 of Set 2 | mataura\n",
      "Processing Record 21 of Set 2 | paamiut\n",
      "Processing Record 22 of Set 2 | castro\n",
      "Processing Record 23 of Set 2 | barrow\n",
      "Processing Record 24 of Set 2 | bluff\n",
      "Processing Record 25 of Set 2 | dikson\n",
      "Processing Record 26 of Set 2 | cape town\n",
      "City not found. Skipping...\n",
      "Processing Record 27 of Set 2 | taraz\n",
      "Processing Record 28 of Set 2 | sorland\n",
      "Processing Record 29 of Set 2 | port moresby\n",
      "Processing Record 30 of Set 2 | hermanus\n",
      "City not found. Skipping...\n",
      "City not found. Skipping...\n",
      "Processing Record 31 of Set 2 | arman\n",
      "Processing Record 32 of Set 2 | yar-sale\n",
      "Processing Record 33 of Set 2 | geraldton\n",
      "City not found. Skipping...\n",
      "Processing Record 34 of Set 2 | bridgetown\n",
      "Processing Record 35 of Set 2 | iqaluit\n",
      "Processing Record 36 of Set 2 | half moon bay\n",
      "Processing Record 37 of Set 2 | vao\n",
      "Processing Record 38 of Set 2 | santa cruz\n",
      "City not found. Skipping...\n",
      "Processing Record 39 of Set 2 | severo-kurilsk\n",
      "Processing Record 40 of Set 2 | sao filipe\n",
      "Processing Record 41 of Set 2 | kavieng\n",
      "Processing Record 42 of Set 2 | minbu\n",
      "Processing Record 43 of Set 2 | riyadh\n",
      "Processing Record 44 of Set 2 | chuy\n",
      "Processing Record 45 of Set 2 | carnarvon\n",
      "City not found. Skipping...\n",
      "City not found. Skipping...\n",
      "Processing Record 46 of Set 2 | riverton\n",
      "Processing Record 47 of Set 2 | veraval\n",
      "Processing Record 48 of Set 2 | paulo afonso\n",
      "Processing Record 49 of Set 2 | port elizabeth\n",
      "Processing Record 50 of Set 2 | stryn\n",
      "Processing Record 0 of Set 3 | mandera\n",
      "Processing Record 1 of Set 3 | vardo\n",
      "City not found. Skipping...\n",
      "Processing Record 2 of Set 3 | baglung\n",
      "Processing Record 3 of Set 3 | lasa\n",
      "Processing Record 4 of Set 3 | asosa\n",
      "Processing Record 5 of Set 3 | aksarka\n",
      "Processing Record 6 of Set 3 | itarema\n",
      "Processing Record 7 of Set 3 | lagoa\n",
      "Processing Record 8 of Set 3 | pisco\n",
      "Processing Record 9 of Set 3 | wang saphung\n",
      "Processing Record 10 of Set 3 | longyearbyen\n",
      "Processing Record 11 of Set 3 | alugan\n",
      "Processing Record 12 of Set 3 | saskylakh\n",
      "Processing Record 13 of Set 3 | petropavlovsk-kamchatskiy\n",
      "Processing Record 14 of Set 3 | iberia\n",
      "Processing Record 15 of Set 3 | butaritari\n",
      "Processing Record 16 of Set 3 | ilulissat\n",
      "Processing Record 17 of Set 3 | noumea\n",
      "Processing Record 18 of Set 3 | prince rupert\n",
      "Processing Record 19 of Set 3 | qaqortoq\n",
      "Processing Record 20 of Set 3 | hithadhoo\n",
      "Processing Record 21 of Set 3 | cam pha\n",
      "Processing Record 22 of Set 3 | krasnoselkup\n",
      "Processing Record 23 of Set 3 | avarua\n",
      "Processing Record 24 of Set 3 | samarai\n",
      "Processing Record 25 of Set 3 | saint-augustin\n",
      "Processing Record 26 of Set 3 | shar\n",
      "Processing Record 27 of Set 3 | san patricio\n",
      "Processing Record 28 of Set 3 | morwell\n",
      "Processing Record 29 of Set 3 | tessalit\n",
      "Processing Record 30 of Set 3 | svetlogorsk\n",
      "City not found. Skipping...\n",
      "Processing Record 31 of Set 3 | huaihua\n",
      "Processing Record 32 of Set 3 | faya\n",
      "Processing Record 33 of Set 3 | mar del plata\n",
      "Processing Record 34 of Set 3 | shenjiamen\n",
      "Processing Record 35 of Set 3 | yellowknife\n",
      "Processing Record 36 of Set 3 | bengkulu\n",
      "Processing Record 37 of Set 3 | fortuna\n",
      "Processing Record 38 of Set 3 | nouadhibou\n",
      "City not found. Skipping...\n",
      "Processing Record 39 of Set 3 | palasa\n",
      "Processing Record 40 of Set 3 | gornyy\n",
      "Processing Record 41 of Set 3 | nikolskoye\n",
      "Processing Record 42 of Set 3 | marsa matruh\n",
      "Processing Record 43 of Set 3 | whitehorse\n",
      "Processing Record 44 of Set 3 | canutama\n",
      "Processing Record 45 of Set 3 | baracoa\n",
      "Processing Record 46 of Set 3 | paka\n",
      "Processing Record 47 of Set 3 | olafsvik\n",
      "Processing Record 48 of Set 3 | kodiak\n",
      "Processing Record 49 of Set 3 | kathmandu\n",
      "Processing Record 50 of Set 3 | stokmarknes\n",
      "Processing Record 0 of Set 4 | kilindoni\n",
      "Processing Record 1 of Set 4 | buala\n",
      "Processing Record 2 of Set 4 | aksha\n",
      "Processing Record 3 of Set 4 | codrington\n",
      "Processing Record 4 of Set 4 | upernavik\n",
      "Processing Record 5 of Set 4 | bereznik\n",
      "Processing Record 6 of Set 4 | onguday\n",
      "Processing Record 7 of Set 4 | george\n",
      "Processing Record 8 of Set 4 | vizinga\n",
      "Processing Record 9 of Set 4 | genhe\n",
      "Processing Record 10 of Set 4 | biak\n",
      "Processing Record 11 of Set 4 | vilhena\n",
      "Processing Record 12 of Set 4 | lovozero\n",
      "Processing Record 13 of Set 4 | fowa\n",
      "Processing Record 14 of Set 4 | karpathos\n",
      "Processing Record 15 of Set 4 | poshekhonye\n",
      "Processing Record 16 of Set 4 | aleksandrov gay\n",
      "Processing Record 17 of Set 4 | ntcheu\n",
      "City not found. Skipping...\n",
      "Processing Record 18 of Set 4 | urumqi\n",
      "Processing Record 19 of Set 4 | nabire\n",
      "Processing Record 20 of Set 4 | patharia\n",
      "Processing Record 21 of Set 4 | qaanaaq\n",
      "Processing Record 22 of Set 4 | husavik\n",
      "Processing Record 23 of Set 4 | abha\n",
      "Processing Record 24 of Set 4 | puerto suarez\n",
      "City not found. Skipping...\n",
      "Processing Record 25 of Set 4 | tasiilaq\n",
      "Processing Record 26 of Set 4 | penha\n",
      "Processing Record 27 of Set 4 | lafiagi\n",
      "Processing Record 28 of Set 4 | cockburn town\n",
      "City not found. Skipping...\n",
      "Processing Record 29 of Set 4 | mopipi\n",
      "Processing Record 30 of Set 4 | eyl\n"
     ]
    },
    {
     "name": "stdout",
     "output_type": "stream",
     "text": [
      "Processing Record 31 of Set 4 | provideniya\n",
      "Processing Record 32 of Set 4 | saint-philippe\n",
      "Processing Record 33 of Set 4 | semey\n",
      "Processing Record 34 of Set 4 | mahebourg\n",
      "Processing Record 35 of Set 4 | oranjemund\n",
      "Processing Record 36 of Set 4 | galveston\n",
      "Processing Record 37 of Set 4 | thompson\n",
      "Processing Record 38 of Set 4 | kavaratti\n",
      "Processing Record 39 of Set 4 | yulara\n",
      "Processing Record 40 of Set 4 | chokurdakh\n",
      "Processing Record 41 of Set 4 | puerto ayora\n",
      "Processing Record 42 of Set 4 | vanimo\n",
      "Processing Record 43 of Set 4 | harper\n",
      "Processing Record 44 of Set 4 | benidorm\n",
      "Processing Record 45 of Set 4 | dungarpur\n",
      "Processing Record 46 of Set 4 | nemuro\n",
      "Processing Record 47 of Set 4 | esperance\n",
      "City not found. Skipping...\n",
      "Processing Record 48 of Set 4 | fengzhen\n",
      "Processing Record 49 of Set 4 | tiksi\n",
      "Processing Record 50 of Set 4 | stodolishche\n",
      "Processing Record 0 of Set 5 | kant\n",
      "Processing Record 1 of Set 5 | clyde river\n",
      "Processing Record 2 of Set 5 | energeticheskiy\n",
      "Processing Record 3 of Set 5 | lompoc\n",
      "Processing Record 4 of Set 5 | villamontes\n",
      "Processing Record 5 of Set 5 | georgetown\n",
      "Processing Record 6 of Set 5 | svolvaer\n",
      "Processing Record 7 of Set 5 | hirara\n",
      "Processing Record 8 of Set 5 | richards bay\n",
      "Processing Record 9 of Set 5 | lebu\n",
      "City not found. Skipping...\n",
      "Processing Record 10 of Set 5 | waw\n",
      "Processing Record 11 of Set 5 | guerrero negro\n",
      "Processing Record 12 of Set 5 | nhulunbuy\n",
      "Processing Record 13 of Set 5 | kirakira\n",
      "Processing Record 14 of Set 5 | kaitangata\n",
      "Processing Record 15 of Set 5 | puro\n",
      "Processing Record 16 of Set 5 | srednekolymsk\n",
      "Processing Record 17 of Set 5 | salym\n",
      "Processing Record 18 of Set 5 | clermont\n",
      "Processing Record 19 of Set 5 | westport\n",
      "City not found. Skipping...\n",
      "Processing Record 20 of Set 5 | kruisfontein\n",
      "Processing Record 21 of Set 5 | boca do acre\n",
      "Processing Record 22 of Set 5 | klaksvik\n",
      "Processing Record 23 of Set 5 | yerbogachen\n",
      "Processing Record 24 of Set 5 | buraydah\n",
      "Processing Record 25 of Set 5 | houma\n",
      "Processing Record 26 of Set 5 | cayenne\n",
      "Processing Record 27 of Set 5 | waingapu\n",
      "Processing Record 28 of Set 5 | tokmak\n",
      "Processing Record 29 of Set 5 | saint-francois\n",
      "Processing Record 30 of Set 5 | moa\n",
      "Processing Record 31 of Set 5 | drayton valley\n",
      "Processing Record 32 of Set 5 | talcahuano\n",
      "Processing Record 33 of Set 5 | pandan\n",
      "Processing Record 34 of Set 5 | solnechnyy\n",
      "Processing Record 35 of Set 5 | wilmington\n",
      "Processing Record 36 of Set 5 | castrillon\n",
      "Processing Record 37 of Set 5 | namibe\n",
      "Processing Record 38 of Set 5 | matinhos\n",
      "City not found. Skipping...\n",
      "Processing Record 39 of Set 5 | san cristobal\n",
      "Processing Record 40 of Set 5 | lavrentiya\n",
      "Processing Record 41 of Set 5 | china\n",
      "Processing Record 42 of Set 5 | salalah\n",
      "Processing Record 43 of Set 5 | belem de sao francisco\n",
      "Processing Record 44 of Set 5 | luganville\n",
      "Processing Record 45 of Set 5 | cherskiy\n",
      "Processing Record 46 of Set 5 | maramba\n",
      "City not found. Skipping...\n",
      "Processing Record 47 of Set 5 | magdalena\n",
      "Processing Record 48 of Set 5 | nexo\n",
      "City not found. Skipping...\n",
      "Processing Record 49 of Set 5 | barmer\n",
      "City not found. Skipping...\n",
      "Processing Record 50 of Set 5 | santa maria\n",
      "Processing Record 0 of Set 6 | tilichiki\n",
      "City not found. Skipping...\n",
      "Processing Record 1 of Set 6 | sao jose da coroa grande\n",
      "Processing Record 2 of Set 6 | iwanai\n",
      "Processing Record 3 of Set 6 | necochea\n",
      "Processing Record 4 of Set 6 | leningradskiy\n",
      "Processing Record 5 of Set 6 | nogent-le-rotrou\n",
      "Processing Record 6 of Set 6 | inuvik\n",
      "Processing Record 7 of Set 6 | dancheng\n",
      "Processing Record 8 of Set 6 | adilcevaz\n",
      "Processing Record 9 of Set 6 | akhalgori\n",
      "Processing Record 10 of Set 6 | puerto leguizamo\n",
      "Processing Record 11 of Set 6 | isangel\n",
      "Processing Record 12 of Set 6 | havre-saint-pierre\n",
      "Processing Record 13 of Set 6 | sampit\n",
      "Processing Record 14 of Set 6 | belawan\n",
      "Processing Record 15 of Set 6 | komsomolskiy\n",
      "Processing Record 16 of Set 6 | cabo san lucas\n",
      "Processing Record 17 of Set 6 | helena\n",
      "Processing Record 18 of Set 6 | sahibganj\n",
      "Processing Record 19 of Set 6 | hobyo\n",
      "Processing Record 20 of Set 6 | vanavara\n",
      "Processing Record 21 of Set 6 | coari\n",
      "Processing Record 22 of Set 6 | honiara\n",
      "Processing Record 23 of Set 6 | ixil\n",
      "Processing Record 24 of Set 6 | paramonga\n",
      "Processing Record 25 of Set 6 | tandalti\n",
      "Processing Record 26 of Set 6 | alekseyevsk\n",
      "Processing Record 27 of Set 6 | deputatskiy\n",
      "Processing Record 28 of Set 6 | sola\n",
      "Processing Record 29 of Set 6 | makat\n",
      "Processing Record 30 of Set 6 | corrales\n",
      "Processing Record 31 of Set 6 | mayo\n",
      "Processing Record 32 of Set 6 | pevek\n",
      "Processing Record 33 of Set 6 | wawa\n",
      "Processing Record 34 of Set 6 | bani walid\n",
      "City not found. Skipping...\n",
      "Processing Record 35 of Set 6 | ostrovnoy\n",
      "Processing Record 36 of Set 6 | chicama\n",
      "Processing Record 37 of Set 6 | katima mulilo\n",
      "Processing Record 38 of Set 6 | adrar\n",
      "Processing Record 39 of Set 6 | dalianwan\n",
      "Processing Record 40 of Set 6 | denpasar\n",
      "Processing Record 41 of Set 6 | matadi\n",
      "Processing Record 42 of Set 6 | feicheng\n",
      "Processing Record 43 of Set 6 | pimenta bueno\n",
      "Processing Record 44 of Set 6 | bauru\n",
      "City not found. Skipping...\n",
      "Processing Record 45 of Set 6 | hearst\n",
      "City not found. Skipping...\n",
      "Processing Record 46 of Set 6 | tura\n",
      "Processing Record 47 of Set 6 | chara\n",
      "Processing Record 48 of Set 6 | xichang\n",
      "City not found. Skipping...\n",
      "Processing Record 49 of Set 6 | katobu\n",
      "City not found. Skipping...\n",
      "Processing Record 50 of Set 6 | astoria\n",
      "Processing Record 0 of Set 7 | coruripe\n",
      "Processing Record 1 of Set 7 | pucallpa\n",
      "Processing Record 2 of Set 7 | talnakh\n",
      "Processing Record 3 of Set 7 | anadyr\n",
      "Processing Record 4 of Set 7 | gariaband\n",
      "Processing Record 5 of Set 7 | lorengau\n",
      "Processing Record 6 of Set 7 | ust-kuyga\n",
      "Processing Record 7 of Set 7 | carbonear\n",
      "City not found. Skipping...\n",
      "Processing Record 8 of Set 7 | sao sebastiao\n",
      "Processing Record 9 of Set 7 | ilebo\n",
      "Processing Record 10 of Set 7 | rawson\n",
      "Processing Record 11 of Set 7 | nyrob\n",
      "City not found. Skipping...\n",
      "Processing Record 12 of Set 7 | yabrud\n",
      "Processing Record 13 of Set 7 | punta alta\n",
      "Processing Record 14 of Set 7 | mafinga\n",
      "Processing Record 15 of Set 7 | nykoping\n",
      "Processing Record 16 of Set 7 | taoudenni\n",
      "Processing Record 17 of Set 7 | humaita\n",
      "Processing Record 18 of Set 7 | lilongwe\n",
      "Processing Record 19 of Set 7 | orlik\n",
      "Processing Record 20 of Set 7 | atar\n",
      "Processing Record 21 of Set 7 | souillac\n",
      "Processing Record 22 of Set 7 | darhan\n",
      "Processing Record 23 of Set 7 | turtas\n",
      "Processing Record 24 of Set 7 | mount gambier\n",
      "Processing Record 25 of Set 7 | letlhakane\n",
      "Processing Record 26 of Set 7 | saint-georges\n",
      "Processing Record 27 of Set 7 | carutapera\n",
      "Processing Record 28 of Set 7 | ornskoldsvik\n",
      "Processing Record 29 of Set 7 | baykit\n",
      "Processing Record 30 of Set 7 | orihuela\n",
      "Processing Record 31 of Set 7 | kalmar\n",
      "Processing Record 32 of Set 7 | cap-aux-meules\n",
      "Processing Record 33 of Set 7 | katsuura\n",
      "Processing Record 34 of Set 7 | sitka\n",
      "Processing Record 35 of Set 7 | lakeside\n",
      "Processing Record 36 of Set 7 | sioux lookout\n",
      "Processing Record 37 of Set 7 | nador\n",
      "Processing Record 38 of Set 7 | elko\n",
      "Processing Record 39 of Set 7 | antofagasta\n",
      "Processing Record 40 of Set 7 | southampton\n",
      "Processing Record 41 of Set 7 | teberda\n",
      "Processing Record 42 of Set 7 | ler\n",
      "Processing Record 43 of Set 7 | miandrivazo\n",
      "City not found. Skipping...\n",
      "Processing Record 44 of Set 7 | lake forest\n",
      "Processing Record 45 of Set 7 | lakewood\n",
      "Processing Record 46 of Set 7 | nanortalik\n",
      "Processing Record 47 of Set 7 | sinnamary\n",
      "Processing Record 48 of Set 7 | pizhma\n",
      "Processing Record 49 of Set 7 | molaoi\n",
      "Processing Record 50 of Set 7 | tautira\n",
      "Processing Record 0 of Set 8 | kununurra\n",
      "Processing Record 1 of Set 8 | praia\n",
      "City not found. Skipping...\n",
      "Processing Record 2 of Set 8 | comodoro rivadavia\n",
      "Processing Record 3 of Set 8 | kibakwe\n",
      "Processing Record 4 of Set 8 | kitwe\n",
      "Processing Record 5 of Set 8 | buchanan\n",
      "City not found. Skipping...\n",
      "Processing Record 6 of Set 8 | champerico\n",
      "City not found. Skipping...\n",
      "Processing Record 7 of Set 8 | bandarbeyla\n",
      "Processing Record 8 of Set 8 | sidney\n",
      "City not found. Skipping...\n",
      "Processing Record 9 of Set 8 | cam ranh\n",
      "Processing Record 10 of Set 8 | roma\n",
      "Processing Record 11 of Set 8 | grindavik\n",
      "Processing Record 12 of Set 8 | flinders\n"
     ]
    },
    {
     "name": "stdout",
     "output_type": "stream",
     "text": [
      "City not found. Skipping...\n",
      "Processing Record 13 of Set 8 | pozo colorado\n",
      "Processing Record 14 of Set 8 | bulgan\n",
      "Processing Record 15 of Set 8 | chumikan\n",
      "Processing Record 16 of Set 8 | arrecife\n",
      "Processing Record 17 of Set 8 | sao miguel do araguaia\n",
      "Processing Record 18 of Set 8 | kailua\n",
      "City not found. Skipping...\n",
      "Processing Record 19 of Set 8 | regente feijo\n",
      "City not found. Skipping...\n",
      "Processing Record 20 of Set 8 | santa eulalia\n",
      "Processing Record 21 of Set 8 | shimoda\n",
      "Processing Record 22 of Set 8 | mocuba\n",
      "Processing Record 23 of Set 8 | ranong\n",
      "Processing Record 24 of Set 8 | bubaque\n",
      "Processing Record 25 of Set 8 | portobelo\n",
      "Processing Record 26 of Set 8 | lethem\n",
      "Processing Record 27 of Set 8 | alofi\n",
      "Processing Record 28 of Set 8 | rincon\n",
      "Processing Record 29 of Set 8 | katangli\n",
      "Processing Record 30 of Set 8 | campbell river\n",
      "Processing Record 31 of Set 8 | talara\n",
      "Processing Record 32 of Set 8 | raudeberg\n",
      "Processing Record 33 of Set 8 | port lincoln\n",
      "Processing Record 34 of Set 8 | rocha\n",
      "Processing Record 35 of Set 8 | palembang\n",
      "Processing Record 36 of Set 8 | kachug\n",
      "Processing Record 37 of Set 8 | imeni babushkina\n",
      "Processing Record 38 of Set 8 | ambalavao\n",
      "City not found. Skipping...\n",
      "Processing Record 39 of Set 8 | lamar\n",
      "Processing Record 40 of Set 8 | port shepstone\n",
      "Processing Record 41 of Set 8 | panaba\n",
      "Processing Record 42 of Set 8 | cidreira\n",
      "Processing Record 43 of Set 8 | sigli\n",
      "Processing Record 44 of Set 8 | yarim\n",
      "Processing Record 45 of Set 8 | santa cruz de la palma\n",
      "Processing Record 46 of Set 8 | awbari\n",
      "Processing Record 47 of Set 8 | grand river south east\n",
      "Processing Record 48 of Set 8 | domoni\n",
      "Processing Record 49 of Set 8 | chandia\n",
      "Processing Record 50 of Set 8 | cairns\n",
      "Processing Record 0 of Set 9 | karatuzskoye\n",
      "Processing Record 1 of Set 9 | broome\n",
      "Processing Record 2 of Set 9 | kahului\n",
      "Processing Record 3 of Set 9 | stromness\n",
      "Processing Record 4 of Set 9 | kaifeng\n",
      "Processing Record 5 of Set 9 | hami\n",
      "Processing Record 6 of Set 9 | aden\n",
      "Processing Record 7 of Set 9 | seoul\n",
      "City not found. Skipping...\n",
      "City not found. Skipping...\n",
      "Processing Record 8 of Set 9 | san carlos de bariloche\n",
      "Processing Record 9 of Set 9 | chahal\n",
      "Processing Record 10 of Set 9 | saint-joseph\n",
      "Processing Record 11 of Set 9 | yumen\n",
      "Processing Record 12 of Set 9 | atessa\n",
      "City not found. Skipping...\n",
      "Processing Record 13 of Set 9 | tonj\n",
      "Processing Record 14 of Set 9 | portales\n",
      "City not found. Skipping...\n",
      "Processing Record 15 of Set 9 | berlevag\n",
      "City not found. Skipping...\n",
      "Processing Record 16 of Set 9 | magnolia\n",
      "Processing Record 17 of Set 9 | huarmey\n",
      "Processing Record 18 of Set 9 | crab hill\n",
      "Processing Record 19 of Set 9 | casper\n",
      "Processing Record 20 of Set 9 | teya\n",
      "Processing Record 21 of Set 9 | hasaki\n",
      "Processing Record 22 of Set 9 | glogow\n",
      "Processing Record 23 of Set 9 | qeshm\n",
      "Processing Record 24 of Set 9 | lesnoy\n",
      "City not found. Skipping...\n",
      "Processing Record 25 of Set 9 | auki\n",
      "Processing Record 26 of Set 9 | alice springs\n",
      "Processing Record 27 of Set 9 | caravelas\n",
      "Processing Record 28 of Set 9 | ekibastuz\n",
      "Processing Record 29 of Set 9 | mitsamiouli\n",
      "City not found. Skipping...\n",
      "Processing Record 30 of Set 9 | spring valley\n",
      "Processing Record 31 of Set 9 | monywa\n",
      "Processing Record 32 of Set 9 | tarko-sale\n",
      "Processing Record 33 of Set 9 | arica\n",
      "Processing Record 34 of Set 9 | ozernovskiy\n",
      "Processing Record 35 of Set 9 | putina\n",
      "Processing Record 36 of Set 9 | tambura\n",
      "Processing Record 37 of Set 9 | luau\n",
      "Processing Record 38 of Set 9 | searcy\n",
      "Processing Record 39 of Set 9 | sur\n",
      "Processing Record 40 of Set 9 | aviles\n",
      "Processing Record 41 of Set 9 | ende\n",
      "Processing Record 42 of Set 9 | lensk\n",
      "Processing Record 43 of Set 9 | saint-pierre\n",
      "City not found. Skipping...\n",
      "Processing Record 44 of Set 9 | luderitz\n",
      "Processing Record 45 of Set 9 | mayumba\n",
      "Processing Record 46 of Set 9 | shizunai\n",
      "Processing Record 47 of Set 9 | pundaguitan\n",
      "Processing Record 48 of Set 9 | izumo\n",
      "Processing Record 49 of Set 9 | queenstown\n",
      "Processing Record 50 of Set 9 | janossomorja\n",
      "Processing Record 0 of Set 10 | saldanha\n",
      "Processing Record 1 of Set 10 | wau\n",
      "Processing Record 2 of Set 10 | praia da vitoria\n",
      "Processing Record 3 of Set 10 | dire\n",
      "City not found. Skipping...\n",
      "Processing Record 4 of Set 10 | waddan\n",
      "Processing Record 5 of Set 10 | tabuk\n",
      "Processing Record 6 of Set 10 | portland\n",
      "Processing Record 7 of Set 10 | trelew\n",
      "Processing Record 8 of Set 10 | caxias\n",
      "Processing Record 9 of Set 10 | poronaysk\n",
      "Processing Record 10 of Set 10 | san jose\n",
      "Processing Record 11 of Set 10 | uvelskiy\n",
      "Processing Record 12 of Set 10 | muros\n",
      "Processing Record 13 of Set 10 | hokitika\n",
      "Processing Record 14 of Set 10 | brae\n",
      "Processing Record 15 of Set 10 | hornepayne\n",
      "Processing Record 16 of Set 10 | kerrobert\n",
      "City not found. Skipping...\n",
      "Processing Record 17 of Set 10 | gilgit\n",
      "Processing Record 18 of Set 10 | bucerias\n",
      "Processing Record 19 of Set 10 | zunyi\n",
      "Processing Record 20 of Set 10 | mbini\n",
      "Processing Record 21 of Set 10 | santiago del estero\n",
      "Processing Record 22 of Set 10 | mercedes\n",
      "Processing Record 23 of Set 10 | ahipara\n",
      "Processing Record 24 of Set 10 | nantucket\n",
      "Processing Record 25 of Set 10 | yamada\n",
      "Processing Record 26 of Set 10 | tutoia\n",
      "City not found. Skipping...\n",
      "Processing Record 27 of Set 10 | sao lourenco do sul\n",
      "Processing Record 28 of Set 10 | san vicente\n",
      "Processing Record 29 of Set 10 | shu\n",
      "Processing Record 30 of Set 10 | san policarpo\n",
      "Processing Record 31 of Set 10 | coihaique\n",
      "Processing Record 32 of Set 10 | teluk nibung\n",
      "Processing Record 33 of Set 10 | iseyin\n",
      "Processing Record 34 of Set 10 | kipini\n",
      "Processing Record 35 of Set 10 | shingu\n",
      "Processing Record 36 of Set 10 | alta floresta\n",
      "Processing Record 37 of Set 10 | hargeysa\n",
      "Processing Record 38 of Set 10 | kralendijk\n",
      "Processing Record 39 of Set 10 | bethlehem\n",
      "Processing Record 40 of Set 10 | kovur\n",
      "Processing Record 41 of Set 10 | key largo\n",
      "Processing Record 42 of Set 10 | mokhsogollokh\n",
      "Processing Record 43 of Set 10 | kloulklubed\n",
      "Processing Record 44 of Set 10 | chardara\n",
      "Processing Record 45 of Set 10 | fremont\n",
      "Processing Record 46 of Set 10 | parkes\n",
      "Processing Record 47 of Set 10 | ofunato\n",
      "Processing Record 48 of Set 10 | ewa beach\n",
      "Processing Record 49 of Set 10 | constantine\n",
      "City not found. Skipping...\n",
      "Processing Record 50 of Set 10 | port hardy\n",
      "Processing Record 0 of Set 11 | jiangyou\n",
      "Processing Record 1 of Set 11 | zhigansk\n",
      "Processing Record 2 of Set 11 | braganca\n",
      "Processing Record 3 of Set 11 | sarkhej\n",
      "Processing Record 4 of Set 11 | stonewall\n",
      "Processing Record 5 of Set 11 | miri\n",
      "City not found. Skipping...\n",
      "City not found. Skipping...\n",
      "Processing Record 6 of Set 11 | sibi\n",
      "Processing Record 7 of Set 11 | araouane\n",
      "Processing Record 8 of Set 11 | weyburn\n",
      "Processing Record 9 of Set 11 | teguldet\n",
      "Processing Record 10 of Set 11 | scottsbluff\n",
      "Processing Record 11 of Set 11 | platteville\n",
      "Processing Record 12 of Set 11 | eureka\n",
      "Processing Record 13 of Set 11 | cabimas\n",
      "Processing Record 14 of Set 11 | ganzhou\n",
      "Processing Record 15 of Set 11 | salinas\n",
      "Processing Record 16 of Set 11 | kasongo-lunda\n",
      "Processing Record 17 of Set 11 | camacupa\n",
      "------------------------------\n",
      "Data Retrieval Complete\n",
      "------------------------------\n"
     ]
    }
   ],
   "source": [
    "# Creating lists \n",
    "city_list = []\n",
    "lat = []\n",
    "lng = []\n",
    "max_temp = []\n",
    "humidity = []\n",
    "cloud = []\n",
    "wind_speed = []\n",
    "country = []\n",
    "date = []\n",
    "\n",
    "# Creating record count and set count\n",
    "count = 0\n",
    "set_count = 1\n",
    "\n",
    "print(f'Beginning Data Retrieval')\n",
    "print(f'-----------------------------')\n",
    "\n",
    "# Looping through API to retrieve info of each city\n",
    "for city in cities:\n",
    "    \n",
    "    response = requests.get(query_url + city.replace(' ','&')).json()\n",
    "    \n",
    "    try:\n",
    "        lat.append(response['coord']['lat'])\n",
    "        lng.append(response['coord']['lon'])\n",
    "        max_temp.append(response['main']['temp_max'])\n",
    "        humidity.append(response['main']['humidity'])\n",
    "        cloud.append(response['clouds']['all'])\n",
    "        wind_speed.append(response['wind']['speed'])\n",
    "        country.append(response['sys']['country'])\n",
    "        date.append(response['dt'])\n",
    "        \n",
    "        if count < 50:\n",
    "            count = count + 1\n",
    "            city_list.append(city)\n",
    "        else: \n",
    "            set_count = set_count + 1\n",
    "            count = 0\n",
    "            city_list.append(city)\n",
    "        print(f'Processing Record {count} of Set {set_count} | {city}')\n",
    "    except:\n",
    "        print(f'City not found. Skipping...')\n",
    "print(f'------------------------------')\n",
    "print(f'Data Retrieval Complete')\n",
    "print(f'------------------------------')"
   ]
  },
  {
   "cell_type": "markdown",
   "metadata": {},
   "source": [
    "### Convert Raw Data to DataFrame\n",
    "* Export the city data into a .csv.\n",
    "* Display the DataFrame"
   ]
  },
  {
   "cell_type": "code",
   "execution_count": 6,
   "metadata": {},
   "outputs": [
    {
     "data": {
      "text/html": [
       "<div>\n",
       "<style scoped>\n",
       "    .dataframe tbody tr th:only-of-type {\n",
       "        vertical-align: middle;\n",
       "    }\n",
       "\n",
       "    .dataframe tbody tr th {\n",
       "        vertical-align: top;\n",
       "    }\n",
       "\n",
       "    .dataframe thead th {\n",
       "        text-align: right;\n",
       "    }\n",
       "</style>\n",
       "<table border=\"1\" class=\"dataframe\">\n",
       "  <thead>\n",
       "    <tr style=\"text-align: right;\">\n",
       "      <th></th>\n",
       "      <th>City</th>\n",
       "      <th>Lat</th>\n",
       "      <th>Lng</th>\n",
       "      <th>Max Temp</th>\n",
       "      <th>Humidity</th>\n",
       "      <th>Cloudiness</th>\n",
       "      <th>Wind Speed</th>\n",
       "      <th>Country</th>\n",
       "      <th>Date</th>\n",
       "    </tr>\n",
       "  </thead>\n",
       "  <tbody>\n",
       "    <tr>\n",
       "      <th>0</th>\n",
       "      <td>san rafael del sur</td>\n",
       "      <td>13.30</td>\n",
       "      <td>-4.90</td>\n",
       "      <td>29.30</td>\n",
       "      <td>62</td>\n",
       "      <td>1</td>\n",
       "      <td>5.63</td>\n",
       "      <td>ML</td>\n",
       "      <td>1601457905</td>\n",
       "    </tr>\n",
       "    <tr>\n",
       "      <th>1</th>\n",
       "      <td>sao joao da barra</td>\n",
       "      <td>20.51</td>\n",
       "      <td>76.21</td>\n",
       "      <td>28.08</td>\n",
       "      <td>63</td>\n",
       "      <td>67</td>\n",
       "      <td>4.14</td>\n",
       "      <td>IN</td>\n",
       "      <td>1601458070</td>\n",
       "    </tr>\n",
       "    <tr>\n",
       "      <th>2</th>\n",
       "      <td>port alfred</td>\n",
       "      <td>-7.03</td>\n",
       "      <td>29.76</td>\n",
       "      <td>28.65</td>\n",
       "      <td>52</td>\n",
       "      <td>58</td>\n",
       "      <td>2.57</td>\n",
       "      <td>CD</td>\n",
       "      <td>1601458070</td>\n",
       "    </tr>\n",
       "    <tr>\n",
       "      <th>3</th>\n",
       "      <td>vaini</td>\n",
       "      <td>-21.20</td>\n",
       "      <td>-175.20</td>\n",
       "      <td>25.00</td>\n",
       "      <td>94</td>\n",
       "      <td>90</td>\n",
       "      <td>3.60</td>\n",
       "      <td>TO</td>\n",
       "      <td>1601458071</td>\n",
       "    </tr>\n",
       "    <tr>\n",
       "      <th>4</th>\n",
       "      <td>vozhega</td>\n",
       "      <td>60.47</td>\n",
       "      <td>40.22</td>\n",
       "      <td>12.34</td>\n",
       "      <td>71</td>\n",
       "      <td>100</td>\n",
       "      <td>2.36</td>\n",
       "      <td>RU</td>\n",
       "      <td>1601458071</td>\n",
       "    </tr>\n",
       "    <tr>\n",
       "      <th>...</th>\n",
       "      <td>...</td>\n",
       "      <td>...</td>\n",
       "      <td>...</td>\n",
       "      <td>...</td>\n",
       "      <td>...</td>\n",
       "      <td>...</td>\n",
       "      <td>...</td>\n",
       "      <td>...</td>\n",
       "      <td>...</td>\n",
       "    </tr>\n",
       "    <tr>\n",
       "      <th>522</th>\n",
       "      <td>cabimas</td>\n",
       "      <td>10.39</td>\n",
       "      <td>-71.44</td>\n",
       "      <td>26.63</td>\n",
       "      <td>81</td>\n",
       "      <td>87</td>\n",
       "      <td>1.17</td>\n",
       "      <td>VE</td>\n",
       "      <td>1601458201</td>\n",
       "    </tr>\n",
       "    <tr>\n",
       "      <th>523</th>\n",
       "      <td>ganzhou</td>\n",
       "      <td>28.82</td>\n",
       "      <td>115.43</td>\n",
       "      <td>22.30</td>\n",
       "      <td>82</td>\n",
       "      <td>8</td>\n",
       "      <td>2.32</td>\n",
       "      <td>CN</td>\n",
       "      <td>1601458201</td>\n",
       "    </tr>\n",
       "    <tr>\n",
       "      <th>524</th>\n",
       "      <td>salinas</td>\n",
       "      <td>36.68</td>\n",
       "      <td>-121.66</td>\n",
       "      <td>14.00</td>\n",
       "      <td>100</td>\n",
       "      <td>90</td>\n",
       "      <td>2.60</td>\n",
       "      <td>US</td>\n",
       "      <td>1601458201</td>\n",
       "    </tr>\n",
       "    <tr>\n",
       "      <th>525</th>\n",
       "      <td>kasongo-lunda</td>\n",
       "      <td>-6.47</td>\n",
       "      <td>16.82</td>\n",
       "      <td>32.93</td>\n",
       "      <td>47</td>\n",
       "      <td>93</td>\n",
       "      <td>0.72</td>\n",
       "      <td>CD</td>\n",
       "      <td>1601458201</td>\n",
       "    </tr>\n",
       "    <tr>\n",
       "      <th>526</th>\n",
       "      <td>camacupa</td>\n",
       "      <td>-12.02</td>\n",
       "      <td>17.48</td>\n",
       "      <td>30.65</td>\n",
       "      <td>35</td>\n",
       "      <td>100</td>\n",
       "      <td>1.25</td>\n",
       "      <td>AO</td>\n",
       "      <td>1601458202</td>\n",
       "    </tr>\n",
       "  </tbody>\n",
       "</table>\n",
       "<p>527 rows × 9 columns</p>\n",
       "</div>"
      ],
      "text/plain": [
       "                   City    Lat     Lng  Max Temp  Humidity  Cloudiness  \\\n",
       "0    san rafael del sur  13.30   -4.90     29.30        62           1   \n",
       "1     sao joao da barra  20.51   76.21     28.08        63          67   \n",
       "2           port alfred  -7.03   29.76     28.65        52          58   \n",
       "3                 vaini -21.20 -175.20     25.00        94          90   \n",
       "4               vozhega  60.47   40.22     12.34        71         100   \n",
       "..                  ...    ...     ...       ...       ...         ...   \n",
       "522             cabimas  10.39  -71.44     26.63        81          87   \n",
       "523             ganzhou  28.82  115.43     22.30        82           8   \n",
       "524             salinas  36.68 -121.66     14.00       100          90   \n",
       "525       kasongo-lunda  -6.47   16.82     32.93        47          93   \n",
       "526            camacupa -12.02   17.48     30.65        35         100   \n",
       "\n",
       "     Wind Speed Country        Date  \n",
       "0          5.63      ML  1601457905  \n",
       "1          4.14      IN  1601458070  \n",
       "2          2.57      CD  1601458070  \n",
       "3          3.60      TO  1601458071  \n",
       "4          2.36      RU  1601458071  \n",
       "..          ...     ...         ...  \n",
       "522        1.17      VE  1601458201  \n",
       "523        2.32      CN  1601458201  \n",
       "524        2.60      US  1601458201  \n",
       "525        0.72      CD  1601458201  \n",
       "526        1.25      AO  1601458202  \n",
       "\n",
       "[527 rows x 9 columns]"
      ]
     },
     "execution_count": 6,
     "metadata": {},
     "output_type": "execute_result"
    }
   ],
   "source": [
    "# Merging all API call information into a dataframe\n",
    "city_df = pd.DataFrame({\n",
    "    \"City\":city_list,\n",
    "    \"Lat\":lat,\n",
    "    \"Lng\":lng,\n",
    "    \"Max Temp\":max_temp,\n",
    "    \"Humidity\":humidity,\n",
    "    \"Cloudiness\":cloud,\n",
    "    \"Wind Speed\":wind_speed,\n",
    "    \"Country\":country,\n",
    "    \"Date\":date\n",
    "})\n",
    "city_df"
   ]
  },
  {
   "cell_type": "code",
   "execution_count": null,
   "metadata": {},
   "outputs": [],
   "source": [
    "city_df.describe()"
   ]
  },
  {
   "cell_type": "markdown",
   "metadata": {},
   "source": [
    "## Inspect the data and remove the cities where the humidity > 100%.\n",
    "----\n",
    "Skip this step if there are no cities that have humidity > 100%. "
   ]
  },
  {
   "cell_type": "code",
   "execution_count": 7,
   "metadata": {},
   "outputs": [
    {
     "data": {
      "text/html": [
       "<div>\n",
       "<style scoped>\n",
       "    .dataframe tbody tr th:only-of-type {\n",
       "        vertical-align: middle;\n",
       "    }\n",
       "\n",
       "    .dataframe tbody tr th {\n",
       "        vertical-align: top;\n",
       "    }\n",
       "\n",
       "    .dataframe thead th {\n",
       "        text-align: right;\n",
       "    }\n",
       "</style>\n",
       "<table border=\"1\" class=\"dataframe\">\n",
       "  <thead>\n",
       "    <tr style=\"text-align: right;\">\n",
       "      <th></th>\n",
       "      <th>City</th>\n",
       "      <th>Lat</th>\n",
       "      <th>Lng</th>\n",
       "      <th>Max Temp</th>\n",
       "      <th>Humidity</th>\n",
       "      <th>Cloudiness</th>\n",
       "      <th>Wind Speed</th>\n",
       "      <th>Country</th>\n",
       "      <th>Date</th>\n",
       "    </tr>\n",
       "  </thead>\n",
       "  <tbody>\n",
       "  </tbody>\n",
       "</table>\n",
       "</div>"
      ],
      "text/plain": [
       "Empty DataFrame\n",
       "Columns: [City, Lat, Lng, Max Temp, Humidity, Cloudiness, Wind Speed, Country, Date]\n",
       "Index: []"
      ]
     },
     "execution_count": 7,
     "metadata": {},
     "output_type": "execute_result"
    }
   ],
   "source": [
    "# Checking if humidity is greater than 100\n",
    "humidity_check = city_df.loc[city_df['Humidity'] > 100]\n",
    "humidity_check"
   ]
  },
  {
   "cell_type": "code",
   "execution_count": null,
   "metadata": {},
   "outputs": [],
   "source": [
    "#  Get the indices of cities that have humidity over 100%.\n"
   ]
  },
  {
   "cell_type": "code",
   "execution_count": null,
   "metadata": {},
   "outputs": [],
   "source": [
    "# Make a new DataFrame equal to the city data to drop all humidity outliers by index.\n",
    "# Passing \"inplace=False\" will make a copy of the city_data DataFrame, which we call \"clean_city_data\".\n"
   ]
  },
  {
   "cell_type": "code",
   "execution_count": null,
   "metadata": {},
   "outputs": [],
   "source": [
    "\n"
   ]
  },
  {
   "cell_type": "markdown",
   "metadata": {},
   "source": [
    "## Plotting the Data\n",
    "* Use proper labeling of the plots using plot titles (including date of analysis) and axes labels.\n",
    "* Save the plotted figures as .pngs."
   ]
  },
  {
   "cell_type": "markdown",
   "metadata": {},
   "source": [
    "## Latitude vs. Temperature Plot"
   ]
  },
  {
   "cell_type": "code",
   "execution_count": 8,
   "metadata": {
    "scrolled": true
   },
   "outputs": [
    {
     "data": {
      "image/png": "[encoded data removed]",
      "text/plain": [
       "<Figure size 432x288 with 1 Axes>"
      ]
     },
     "metadata": {
      "needs_background": "light"
     },
     "output_type": "display_data"
    }
   ],
   "source": [
    "# Plotting Latitude vs Temperature\n",
    "plt.scatter(city_df['Lat'],city_df['Max Temp'])\n",
    "plt.title('City Latitude vs Max Temperature (30/09/20)')\n",
    "plt.ylabel('Max Temperature (F)')\n",
    "plt.xlabel('Latitude')\n",
    "plt.grid()\n",
    "plt.savefig('../Images/fig1.png')"
   ]
  },
  {
   "cell_type": "markdown",
   "metadata": {},
   "source": [
    "## Latitude vs. Humidity Plot"
   ]
  },
  {
   "cell_type": "code",
   "execution_count": 9,
   "metadata": {},
   "outputs": [
    {
     "data": {
      "image/png": "[encoded data removed]",
      "text/plain": [
       "<Figure size 432x288 with 1 Axes>"
      ]
     },
     "metadata": {
      "needs_background": "light"
     },
     "output_type": "display_data"
    }
   ],
   "source": [
    "# Plotting Latitude vs Humidity\n",
    "plt.scatter(city_df['Lat'],city_df['Humidity'])\n",
    "plt.title('City Latitude vs Humidity (30/09/20)')\n",
    "plt.ylabel('Humidity (%)')\n",
    "plt.xlabel('Latitude')\n",
    "plt.grid()\n",
    "plt.savefig('../Images/fig2.png')"
   ]
  },
  {
   "cell_type": "markdown",
   "metadata": {},
   "source": [
    "## Latitude vs. Cloudiness Plot"
   ]
  },
  {
   "cell_type": "code",
   "execution_count": 10,
   "metadata": {},
   "outputs": [
    {
     "data": {
      "image/png": "[encoded data removed]",
      "text/plain": [
       "<Figure size 432x288 with 1 Axes>"
      ]
     },
     "metadata": {
      "needs_background": "light"
     },
     "output_type": "display_data"
    }
   ],
   "source": [
    "# Plotting Latitude vs. Cloudiness\n",
    "plt.scatter(city_df['Lat'],city_df['Cloudiness'])\n",
    "plt.title('City Latitude vs Cloudiness (30/09/20)')\n",
    "plt.ylabel('Cloudiness (%)')\n",
    "plt.xlabel('Latitude')\n",
    "plt.grid()\n",
    "plt.savefig('../Images/fig3.png')"
   ]
  },
  {
   "cell_type": "markdown",
   "metadata": {},
   "source": [
    "## Latitude vs. Wind Speed Plot"
   ]
  },
  {
   "cell_type": "code",
   "execution_count": 11,
   "metadata": {
    "scrolled": true
   },
   "outputs": [
    {
     "data": {
      "image/png": "[encoded data removed]",
      "text/plain": [
       "<Figure size 432x288 with 1 Axes>"
      ]
     },
     "metadata": {
      "needs_background": "light"
     },
     "output_type": "display_data"
    }
   ],
   "source": [
    "# Plotting Latitude vs. Wind Speed\n",
    "plt.scatter(city_df['Lat'],city_df['Wind Speed'])\n",
    "plt.title('City Latitude vs Wind Speed (30/09/20)')\n",
    "plt.ylabel('Wind Speed (mph)')\n",
    "plt.xlabel('Latitude')\n",
    "plt.grid()\n",
    "plt.savefig('../Images/fig4.png')"
   ]
  },
  {
   "cell_type": "code",
   "execution_count": 12,
   "metadata": {},
   "outputs": [
    {
     "data": {
      "text/html": [
       "<div>\n",
       "<style scoped>\n",
       "    .dataframe tbody tr th:only-of-type {\n",
       "        vertical-align: middle;\n",
       "    }\n",
       "\n",
       "    .dataframe tbody tr th {\n",
       "        vertical-align: top;\n",
       "    }\n",
       "\n",
       "    .dataframe thead th {\n",
       "        text-align: right;\n",
       "    }\n",
       "</style>\n",
       "<table border=\"1\" class=\"dataframe\">\n",
       "  <thead>\n",
       "    <tr style=\"text-align: right;\">\n",
       "      <th></th>\n",
       "      <th>City</th>\n",
       "      <th>Lat</th>\n",
       "      <th>Lng</th>\n",
       "      <th>Max Temp</th>\n",
       "      <th>Humidity</th>\n",
       "      <th>Cloudiness</th>\n",
       "      <th>Wind Speed</th>\n",
       "      <th>Country</th>\n",
       "      <th>Date</th>\n",
       "    </tr>\n",
       "  </thead>\n",
       "  <tbody>\n",
       "    <tr>\n",
       "      <th>0</th>\n",
       "      <td>san rafael del sur</td>\n",
       "      <td>13.30</td>\n",
       "      <td>-4.90</td>\n",
       "      <td>29.30</td>\n",
       "      <td>62</td>\n",
       "      <td>1</td>\n",
       "      <td>5.63</td>\n",
       "      <td>ML</td>\n",
       "      <td>1601457905</td>\n",
       "    </tr>\n",
       "    <tr>\n",
       "      <th>1</th>\n",
       "      <td>sao joao da barra</td>\n",
       "      <td>20.51</td>\n",
       "      <td>76.21</td>\n",
       "      <td>28.08</td>\n",
       "      <td>63</td>\n",
       "      <td>67</td>\n",
       "      <td>4.14</td>\n",
       "      <td>IN</td>\n",
       "      <td>1601458070</td>\n",
       "    </tr>\n",
       "    <tr>\n",
       "      <th>4</th>\n",
       "      <td>vozhega</td>\n",
       "      <td>60.47</td>\n",
       "      <td>40.22</td>\n",
       "      <td>12.34</td>\n",
       "      <td>71</td>\n",
       "      <td>100</td>\n",
       "      <td>2.36</td>\n",
       "      <td>RU</td>\n",
       "      <td>1601458071</td>\n",
       "    </tr>\n",
       "    <tr>\n",
       "      <th>5</th>\n",
       "      <td>alihe</td>\n",
       "      <td>50.57</td>\n",
       "      <td>123.72</td>\n",
       "      <td>9.49</td>\n",
       "      <td>64</td>\n",
       "      <td>74</td>\n",
       "      <td>1.31</td>\n",
       "      <td>CN</td>\n",
       "      <td>1601458071</td>\n",
       "    </tr>\n",
       "    <tr>\n",
       "      <th>7</th>\n",
       "      <td>roald</td>\n",
       "      <td>62.58</td>\n",
       "      <td>6.13</td>\n",
       "      <td>12.00</td>\n",
       "      <td>93</td>\n",
       "      <td>75</td>\n",
       "      <td>1.50</td>\n",
       "      <td>NO</td>\n",
       "      <td>1601458071</td>\n",
       "    </tr>\n",
       "    <tr>\n",
       "      <th>...</th>\n",
       "      <td>...</td>\n",
       "      <td>...</td>\n",
       "      <td>...</td>\n",
       "      <td>...</td>\n",
       "      <td>...</td>\n",
       "      <td>...</td>\n",
       "      <td>...</td>\n",
       "      <td>...</td>\n",
       "      <td>...</td>\n",
       "    </tr>\n",
       "    <tr>\n",
       "      <th>520</th>\n",
       "      <td>platteville</td>\n",
       "      <td>42.73</td>\n",
       "      <td>-90.48</td>\n",
       "      <td>8.00</td>\n",
       "      <td>100</td>\n",
       "      <td>1</td>\n",
       "      <td>2.10</td>\n",
       "      <td>US</td>\n",
       "      <td>1601458109</td>\n",
       "    </tr>\n",
       "    <tr>\n",
       "      <th>521</th>\n",
       "      <td>eureka</td>\n",
       "      <td>40.80</td>\n",
       "      <td>-124.16</td>\n",
       "      <td>15.00</td>\n",
       "      <td>94</td>\n",
       "      <td>0</td>\n",
       "      <td>0.68</td>\n",
       "      <td>US</td>\n",
       "      <td>1601458200</td>\n",
       "    </tr>\n",
       "    <tr>\n",
       "      <th>522</th>\n",
       "      <td>cabimas</td>\n",
       "      <td>10.39</td>\n",
       "      <td>-71.44</td>\n",
       "      <td>26.63</td>\n",
       "      <td>81</td>\n",
       "      <td>87</td>\n",
       "      <td>1.17</td>\n",
       "      <td>VE</td>\n",
       "      <td>1601458201</td>\n",
       "    </tr>\n",
       "    <tr>\n",
       "      <th>523</th>\n",
       "      <td>ganzhou</td>\n",
       "      <td>28.82</td>\n",
       "      <td>115.43</td>\n",
       "      <td>22.30</td>\n",
       "      <td>82</td>\n",
       "      <td>8</td>\n",
       "      <td>2.32</td>\n",
       "      <td>CN</td>\n",
       "      <td>1601458201</td>\n",
       "    </tr>\n",
       "    <tr>\n",
       "      <th>524</th>\n",
       "      <td>salinas</td>\n",
       "      <td>36.68</td>\n",
       "      <td>-121.66</td>\n",
       "      <td>14.00</td>\n",
       "      <td>100</td>\n",
       "      <td>90</td>\n",
       "      <td>2.60</td>\n",
       "      <td>US</td>\n",
       "      <td>1601458201</td>\n",
       "    </tr>\n",
       "  </tbody>\n",
       "</table>\n",
       "<p>373 rows × 9 columns</p>\n",
       "</div>"
      ],
      "text/plain": [
       "                   City    Lat     Lng  Max Temp  Humidity  Cloudiness  \\\n",
       "0    san rafael del sur  13.30   -4.90     29.30        62           1   \n",
       "1     sao joao da barra  20.51   76.21     28.08        63          67   \n",
       "4               vozhega  60.47   40.22     12.34        71         100   \n",
       "5                 alihe  50.57  123.72      9.49        64          74   \n",
       "7                 roald  62.58    6.13     12.00        93          75   \n",
       "..                  ...    ...     ...       ...       ...         ...   \n",
       "520         platteville  42.73  -90.48      8.00       100           1   \n",
       "521              eureka  40.80 -124.16     15.00        94           0   \n",
       "522             cabimas  10.39  -71.44     26.63        81          87   \n",
       "523             ganzhou  28.82  115.43     22.30        82           8   \n",
       "524             salinas  36.68 -121.66     14.00       100          90   \n",
       "\n",
       "     Wind Speed Country        Date  \n",
       "0          5.63      ML  1601457905  \n",
       "1          4.14      IN  1601458070  \n",
       "4          2.36      RU  1601458071  \n",
       "5          1.31      CN  1601458071  \n",
       "7          1.50      NO  1601458071  \n",
       "..          ...     ...         ...  \n",
       "520        2.10      US  1601458109  \n",
       "521        0.68      US  1601458200  \n",
       "522        1.17      VE  1601458201  \n",
       "523        2.32      CN  1601458201  \n",
       "524        2.60      US  1601458201  \n",
       "\n",
       "[373 rows x 9 columns]"
      ]
     },
     "execution_count": 12,
     "metadata": {},
     "output_type": "execute_result"
    }
   ],
   "source": [
    "# Extracting northern hemisphere only data from city dataframe\n",
    "north_hemisphere = city_df.loc[city_df['Lat'] > 0]\n",
    "north_hemisphere"
   ]
  },
  {
   "cell_type": "markdown",
   "metadata": {},
   "source": [
    "## Linear Regression"
   ]
  },
  {
   "cell_type": "code",
   "execution_count": 26,
   "metadata": {},
   "outputs": [],
   "source": [
    "# Linear Regression for Northern Hemisphere - Max Temp vs. Latitude Linear Regression\n",
    "slope,intercept,rval,pval,std_err = stats.linregress(north_hemisphere['Lat'],north_hemisphere['Max Temp'])\n",
    "fit = slope * north_hemisphere['Lat'] + intercept"
   ]
  },
  {
   "cell_type": "markdown",
   "metadata": {},
   "source": [
    "####  Northern Hemisphere - Max Temp vs. Latitude Linear Regression"
   ]
  },
  {
   "cell_type": "code",
   "execution_count": 14,
   "metadata": {},
   "outputs": [
    {
     "name": "stdout",
     "output_type": "stream",
     "text": [
      "The r-value is: 0.7199131169520904\n"
     ]
    },
    {
     "data": {
      "image/png": "[encoded data removed]",
      "text/plain": [
       "<Figure size 432x288 with 1 Axes>"
      ]
     },
     "metadata": {
      "needs_background": "light"
     },
     "output_type": "display_data"
    }
   ],
   "source": [
    "# Scatterplot of Northern Hemisphere - Max Temp vs. Latitude Linear Regression\n",
    "plt.scatter(north_hemisphere['Lat'],north_hemisphere['Max Temp'])\n",
    "plt.xlabel('Latitude')\n",
    "plt.ylabel('Max Temp (F)')\n",
    "plt.title('Northern Hemisphere - Max Temp vs. Latitude Linear Regression')\n",
    "plt.plot(north_hemisphere['Lat'],fit,color='red')\n",
    "print(f'The r-value is: {rval**2}')"
   ]
  },
  {
   "cell_type": "markdown",
   "metadata": {},
   "source": [
    "####  Southern Hemisphere - Max Temp vs. Latitude Linear Regression"
   ]
  },
  {
   "cell_type": "code",
   "execution_count": 15,
   "metadata": {},
   "outputs": [
    {
     "data": {
      "text/html": [
       "<div>\n",
       "<style scoped>\n",
       "    .dataframe tbody tr th:only-of-type {\n",
       "        vertical-align: middle;\n",
       "    }\n",
       "\n",
       "    .dataframe tbody tr th {\n",
       "        vertical-align: top;\n",
       "    }\n",
       "\n",
       "    .dataframe thead th {\n",
       "        text-align: right;\n",
       "    }\n",
       "</style>\n",
       "<table border=\"1\" class=\"dataframe\">\n",
       "  <thead>\n",
       "    <tr style=\"text-align: right;\">\n",
       "      <th></th>\n",
       "      <th>City</th>\n",
       "      <th>Lat</th>\n",
       "      <th>Lng</th>\n",
       "      <th>Max Temp</th>\n",
       "      <th>Humidity</th>\n",
       "      <th>Cloudiness</th>\n",
       "      <th>Wind Speed</th>\n",
       "      <th>Country</th>\n",
       "      <th>Date</th>\n",
       "    </tr>\n",
       "  </thead>\n",
       "  <tbody>\n",
       "    <tr>\n",
       "      <th>2</th>\n",
       "      <td>port alfred</td>\n",
       "      <td>-7.03</td>\n",
       "      <td>29.76</td>\n",
       "      <td>28.65</td>\n",
       "      <td>52</td>\n",
       "      <td>58</td>\n",
       "      <td>2.57</td>\n",
       "      <td>CD</td>\n",
       "      <td>1601458070</td>\n",
       "    </tr>\n",
       "    <tr>\n",
       "      <th>3</th>\n",
       "      <td>vaini</td>\n",
       "      <td>-21.20</td>\n",
       "      <td>-175.20</td>\n",
       "      <td>25.00</td>\n",
       "      <td>94</td>\n",
       "      <td>90</td>\n",
       "      <td>3.60</td>\n",
       "      <td>TO</td>\n",
       "      <td>1601458071</td>\n",
       "    </tr>\n",
       "    <tr>\n",
       "      <th>6</th>\n",
       "      <td>bambous virieux</td>\n",
       "      <td>-20.26</td>\n",
       "      <td>57.41</td>\n",
       "      <td>24.44</td>\n",
       "      <td>69</td>\n",
       "      <td>75</td>\n",
       "      <td>6.70</td>\n",
       "      <td>MU</td>\n",
       "      <td>1601458071</td>\n",
       "    </tr>\n",
       "    <tr>\n",
       "      <th>8</th>\n",
       "      <td>karratha</td>\n",
       "      <td>-20.74</td>\n",
       "      <td>116.85</td>\n",
       "      <td>30.40</td>\n",
       "      <td>22</td>\n",
       "      <td>4</td>\n",
       "      <td>5.75</td>\n",
       "      <td>AU</td>\n",
       "      <td>1601457976</td>\n",
       "    </tr>\n",
       "    <tr>\n",
       "      <th>10</th>\n",
       "      <td>mwinilunga</td>\n",
       "      <td>-11.74</td>\n",
       "      <td>24.43</td>\n",
       "      <td>31.25</td>\n",
       "      <td>37</td>\n",
       "      <td>58</td>\n",
       "      <td>0.77</td>\n",
       "      <td>ZM</td>\n",
       "      <td>1601458072</td>\n",
       "    </tr>\n",
       "    <tr>\n",
       "      <th>...</th>\n",
       "      <td>...</td>\n",
       "      <td>...</td>\n",
       "      <td>...</td>\n",
       "      <td>...</td>\n",
       "      <td>...</td>\n",
       "      <td>...</td>\n",
       "      <td>...</td>\n",
       "      <td>...</td>\n",
       "      <td>...</td>\n",
       "    </tr>\n",
       "    <tr>\n",
       "      <th>506</th>\n",
       "      <td>ewa beach</td>\n",
       "      <td>-8.62</td>\n",
       "      <td>122.51</td>\n",
       "      <td>26.59</td>\n",
       "      <td>73</td>\n",
       "      <td>67</td>\n",
       "      <td>1.25</td>\n",
       "      <td>ID</td>\n",
       "      <td>1601458196</td>\n",
       "    </tr>\n",
       "    <tr>\n",
       "      <th>508</th>\n",
       "      <td>port hardy</td>\n",
       "      <td>-7.03</td>\n",
       "      <td>29.76</td>\n",
       "      <td>28.65</td>\n",
       "      <td>52</td>\n",
       "      <td>58</td>\n",
       "      <td>2.57</td>\n",
       "      <td>CD</td>\n",
       "      <td>1601458090</td>\n",
       "    </tr>\n",
       "    <tr>\n",
       "      <th>511</th>\n",
       "      <td>braganca</td>\n",
       "      <td>-1.05</td>\n",
       "      <td>-46.77</td>\n",
       "      <td>23.79</td>\n",
       "      <td>91</td>\n",
       "      <td>9</td>\n",
       "      <td>1.57</td>\n",
       "      <td>BR</td>\n",
       "      <td>1601458198</td>\n",
       "    </tr>\n",
       "    <tr>\n",
       "      <th>525</th>\n",
       "      <td>kasongo-lunda</td>\n",
       "      <td>-6.47</td>\n",
       "      <td>16.82</td>\n",
       "      <td>32.93</td>\n",
       "      <td>47</td>\n",
       "      <td>93</td>\n",
       "      <td>0.72</td>\n",
       "      <td>CD</td>\n",
       "      <td>1601458201</td>\n",
       "    </tr>\n",
       "    <tr>\n",
       "      <th>526</th>\n",
       "      <td>camacupa</td>\n",
       "      <td>-12.02</td>\n",
       "      <td>17.48</td>\n",
       "      <td>30.65</td>\n",
       "      <td>35</td>\n",
       "      <td>100</td>\n",
       "      <td>1.25</td>\n",
       "      <td>AO</td>\n",
       "      <td>1601458202</td>\n",
       "    </tr>\n",
       "  </tbody>\n",
       "</table>\n",
       "<p>154 rows × 9 columns</p>\n",
       "</div>"
      ],
      "text/plain": [
       "                City    Lat     Lng  Max Temp  Humidity  Cloudiness  \\\n",
       "2        port alfred  -7.03   29.76     28.65        52          58   \n",
       "3              vaini -21.20 -175.20     25.00        94          90   \n",
       "6    bambous virieux -20.26   57.41     24.44        69          75   \n",
       "8           karratha -20.74  116.85     30.40        22           4   \n",
       "10        mwinilunga -11.74   24.43     31.25        37          58   \n",
       "..               ...    ...     ...       ...       ...         ...   \n",
       "506        ewa beach  -8.62  122.51     26.59        73          67   \n",
       "508       port hardy  -7.03   29.76     28.65        52          58   \n",
       "511         braganca  -1.05  -46.77     23.79        91           9   \n",
       "525    kasongo-lunda  -6.47   16.82     32.93        47          93   \n",
       "526         camacupa -12.02   17.48     30.65        35         100   \n",
       "\n",
       "     Wind Speed Country        Date  \n",
       "2          2.57      CD  1601458070  \n",
       "3          3.60      TO  1601458071  \n",
       "6          6.70      MU  1601458071  \n",
       "8          5.75      AU  1601457976  \n",
       "10         0.77      ZM  1601458072  \n",
       "..          ...     ...         ...  \n",
       "506        1.25      ID  1601458196  \n",
       "508        2.57      CD  1601458090  \n",
       "511        1.57      BR  1601458198  \n",
       "525        0.72      CD  1601458201  \n",
       "526        1.25      AO  1601458202  \n",
       "\n",
       "[154 rows x 9 columns]"
      ]
     },
     "execution_count": 15,
     "metadata": {},
     "output_type": "execute_result"
    }
   ],
   "source": [
    "# Extracting southern hemisphere only data from city dataframe\n",
    "south_hemisphere = city_df.loc[city_df['Lat'] < 0]\n",
    "south_hemisphere"
   ]
  },
  {
   "cell_type": "code",
   "execution_count": 28,
   "metadata": {},
   "outputs": [],
   "source": [
    "# Linear Regression for Southern Hemisphere - Humidity (%) vs. Latitude Linear Regression\n",
    "slope2,intercept2,rval2,pval2,std_err2 = stats.linregress(south_hemisphere['Lat'],south_hemisphere['Humidity'])\n",
    "fit2 = slope2 * south_hemisphere['Lat'] + intercept2"
   ]
  },
  {
   "cell_type": "code",
   "execution_count": 19,
   "metadata": {},
   "outputs": [
    {
     "name": "stdout",
     "output_type": "stream",
     "text": [
      "The r-value is: 0.7199131169520904\n"
     ]
    },
    {
     "data": {
      "image/png": "[encoded data removed]",
      "text/plain": [
       "<Figure size 432x288 with 1 Axes>"
      ]
     },
     "metadata": {
      "needs_background": "light"
     },
     "output_type": "display_data"
    }
   ],
   "source": [
    "# Scatterplot of Southern Hemisphere - Max Temp vs. Latitude Linear Regression\n",
    "plt.scatter(south_hemisphere['Lat'],south_hemisphere['Humidity'])\n",
    "plt.xlabel('Latitude')\n",
    "plt.ylabel('Humidity (%)')\n",
    "plt.title('Southern Hemisphere - Humidity vs. Latitude Linear Regression')\n",
    "plt.plot(south_hemisphere['Lat'],fit2,color='red')\n",
    "print(f'The r-value is: {rval**2}')"
   ]
  },
  {
   "cell_type": "markdown",
   "metadata": {},
   "source": [
    "####  Northern Hemisphere - Humidity (%) vs. Latitude Linear Regression"
   ]
  },
  {
   "cell_type": "code",
   "execution_count": 27,
   "metadata": {},
   "outputs": [],
   "source": [
    "# Linear Regression for Northern Hemisphere - Humidity (%) vs. Latitude Linear Regression\n",
    "slope3,intercept3,rval3,pval3,std_err3 = stats.linregress(north_hemisphere['Lat'],north_hemisphere['Humidity'])\n",
    "fit3 = slope3 * north_hemisphere['Lat'] + intercept3"
   ]
  },
  {
   "cell_type": "code",
   "execution_count": 21,
   "metadata": {},
   "outputs": [
    {
     "name": "stdout",
     "output_type": "stream",
     "text": [
      "The r-value is: 0.7199131169520904\n"
     ]
    },
    {
     "data": {
      "image/png": "[encoded data removed]",
      "text/plain": [
       "<Figure size 432x288 with 1 Axes>"
      ]
     },
     "metadata": {
      "needs_background": "light"
     },
     "output_type": "display_data"
    }
   ],
   "source": [
    "# Scatterplot of Northern Hemisphere - Humidity (%) vs. Latitude Linear Regression\n",
    "plt.scatter(north_hemisphere['Lat'],north_hemisphere['Humidity'])\n",
    "plt.xlabel('Latitude')\n",
    "plt.ylabel('Humidity (%)')\n",
    "plt.title('Northern Hemisphere - Humidity (%) vs. Latitude Linear Regression')\n",
    "plt.plot(north_hemisphere['Lat'],fit3,color='red')\n",
    "print(f'The r-value is: {rval**2}')"
   ]
  },
  {
   "cell_type": "markdown",
   "metadata": {},
   "source": [
    "####  Southern Hemisphere - Humidity (%) vs. Latitude Linear Regression"
   ]
  },
  {
   "cell_type": "code",
   "execution_count": 29,
   "metadata": {},
   "outputs": [],
   "source": [
    "# Linear Regression for Southern Hemisphere - Humidity (%) vs. Latitude Linear Regression\n",
    "slope4,intercept4,rval4,pval4,std_err4 = stats.linregress(south_hemisphere['Lat'],south_hemisphere['Humidity'])\n",
    "fit4 = slope4 * south_hemisphere['Lat'] + intercept4"
   ]
  },
  {
   "cell_type": "code",
   "execution_count": 24,
   "metadata": {},
   "outputs": [
    {
     "name": "stdout",
     "output_type": "stream",
     "text": [
      "The r-value is: 0.7199131169520904\n"
     ]
    },
    {
     "data": {
      "image/png": "[encoded data removed]",
      "text/plain": [
       "<Figure size 432x288 with 1 Axes>"
      ]
     },
     "metadata": {
      "needs_background": "light"
     },
     "output_type": "display_data"
    }
   ],
   "source": [
    "# Scatterplot of Southern Hemisphere - Humidity (%) vs. Latitude Linear Regression\n",
    "plt.scatter(south_hemisphere['Lat'],south_hemisphere['Humidity'])\n",
    "plt.xlabel('Latitude')\n",
    "plt.ylabel('Humidity (%)')\n",
    "plt.title('Southern Hemisphere - Humidity (%) vs. Latitude Linear Regression')\n",
    "plt.plot(south_hemisphere['Lat'],fit4,color='red')\n",
    "print(f'The r-value is: {rval**2}')"
   ]
  },
  {
   "cell_type": "markdown",
   "metadata": {},
   "source": [
    "####  Northern Hemisphere - Cloudiness (%) vs. Latitude Linear Regression"
   ]
  },
  {
   "cell_type": "code",
   "execution_count": 30,
   "metadata": {},
   "outputs": [],
   "source": [
    "# Linear Regression for Northern Hemisphere - Cloudiness (%) vs. Latitude Linear Regression\n",
    "slope5,intercept5,rval5,pval5,std_err5 = stats.linregress(north_hemisphere['Lat'],north_hemisphere['Cloudiness'])\n",
    "fit5 = slope5 * north_hemisphere['Lat'] + intercept5"
   ]
  },
  {
   "cell_type": "code",
   "execution_count": 31,
   "metadata": {},
   "outputs": [
    {
     "name": "stdout",
     "output_type": "stream",
     "text": [
      "The r-value is: 0.7199131169520904\n"
     ]
    },
    {
     "data": {
      "image/png": "[encoded data removed]",
      "text/plain": [
       "<Figure size 432x288 with 1 Axes>"
      ]
     },
     "metadata": {
      "needs_background": "light"
     },
     "output_type": "display_data"
    }
   ],
   "source": [
    "# Scatterplot of Northern Hemisphere - Cloudiness (%) vs. Latitude Linear Regression\n",
    "plt.scatter(north_hemisphere['Lat'],north_hemisphere['Cloudiness'])\n",
    "plt.xlabel('Latitude')\n",
    "plt.ylabel('Cloudiness (%)')\n",
    "plt.title('Northern Hemisphere - Cloudiness (%) vs. Latitude Linear Regression')\n",
    "plt.plot(north_hemisphere['Lat'],fit5,color='red')\n",
    "print(f'The r-value is: {rval**2}')"
   ]
  },
  {
   "cell_type": "markdown",
   "metadata": {},
   "source": [
    "####  Southern Hemisphere - Cloudiness (%) vs. Latitude Linear Regression"
   ]
  },
  {
   "cell_type": "code",
   "execution_count": 33,
   "metadata": {},
   "outputs": [],
   "source": [
    "# Linear Regression for Southern Hemisphere - Cloudiness (%) vs. Latitude Linear Regression\n",
    "slope6,intercept6,rval6,pval6,std_err6 = stats.linregress(south_hemisphere['Lat'],south_hemisphere['Cloudiness'])\n",
    "fit6 = slope6 * south_hemisphere['Lat'] + intercept6"
   ]
  },
  {
   "cell_type": "code",
   "execution_count": 34,
   "metadata": {},
   "outputs": [
    {
     "name": "stdout",
     "output_type": "stream",
     "text": [
      "The r-value is: 0.7199131169520904\n"
     ]
    },
    {
     "data": {
      "image/png": "[encoded data removed]",
      "text/plain": [
       "<Figure size 432x288 with 1 Axes>"
      ]
     },
     "metadata": {
      "needs_background": "light"
     },
     "output_type": "display_data"
    }
   ],
   "source": [
    "# Scatterplot of Southern Hemisphere - Cloudiness (%) vs. Latitude Linear Regression\n",
    "plt.scatter(south_hemisphere['Lat'],south_hemisphere['Cloudiness'])\n",
    "plt.xlabel('Latitude')\n",
    "plt.ylabel('Cloudiness (%)')\n",
    "plt.title('Southern Hemisphere - Cloudiness (%) vs. Latitude Linear Regression')\n",
    "plt.plot(south_hemisphere['Lat'],fit6,color='red')\n",
    "print(f'The r-value is: {rval**2}')"
   ]
  },
  {
   "cell_type": "markdown",
   "metadata": {},
   "source": [
    "####  Northern Hemisphere - Wind Speed (mph) vs. Latitude Linear Regression"
   ]
  },
  {
   "cell_type": "code",
   "execution_count": 36,
   "metadata": {},
   "outputs": [],
   "source": [
    "# Linear Regression for Northern Hemisphere - Wind Speed (mph) vs. Latitude Linear Regression\n",
    "slope7,intercept7,rval7,pval7,std_err7 = stats.linregress(north_hemisphere['Lat'],north_hemisphere['Wind Speed'])\n",
    "fit7 = slope7 * north_hemisphere['Lat'] + intercept7"
   ]
  },
  {
   "cell_type": "code",
   "execution_count": 37,
   "metadata": {},
   "outputs": [
    {
     "name": "stdout",
     "output_type": "stream",
     "text": [
      "The r-value is: 0.7199131169520904\n"
     ]
    },
    {
     "data": {
      "image/png": "[encoded data removed]",
      "text/plain": [
       "<Figure size 432x288 with 1 Axes>"
      ]
     },
     "metadata": {
      "needs_background": "light"
     },
     "output_type": "display_data"
    }
   ],
   "source": [
    "# Scatterplot of Northern Hemisphere - Wind Speed (mph) vs. Latitude Linear Regression\n",
    "plt.scatter(north_hemisphere['Lat'],north_hemisphere['Wind Speed'])\n",
    "plt.xlabel('Latitude')\n",
    "plt.ylabel('Wind Speed (mph)')\n",
    "plt.title('Northern Hemisphere - Wind Speed (mph) vs. Latitude Linear Regression')\n",
    "plt.plot(north_hemisphere['Lat'],fit7,color='red')\n",
    "print(f'The r-value is: {rval**2}')"
   ]
  },
  {
   "cell_type": "markdown",
   "metadata": {},
   "source": [
    "####  Southern Hemisphere - Wind Speed (mph) vs. Latitude Linear Regression"
   ]
  },
  {
   "cell_type": "code",
   "execution_count": 39,
   "metadata": {},
   "outputs": [],
   "source": [
    "# Linear Regression for Southern Hemisphere - Wind Speed (mph) vs. Latitude Linear Regression\n",
    "slope8,intercept8,rval8,pval8,std_err8 = stats.linregress(south_hemisphere['Lat'],south_hemisphere['Wind Speed'])\n",
    "fit8 = slope8 * south_hemisphere['Lat'] + intercept8"
   ]
  },
  {
   "cell_type": "code",
   "execution_count": 41,
   "metadata": {},
   "outputs": [
    {
     "name": "stdout",
     "output_type": "stream",
     "text": [
      "The r-value is: 0.7199131169520904\n"
     ]
    },
    {
     "data": {
      "image/png": "[encoded data removed]",
      "text/plain": [
       "<Figure size 432x288 with 1 Axes>"
      ]
     },
     "metadata": {
      "needs_background": "light"
     },
     "output_type": "display_data"
    }
   ],
   "source": [
    "# Scatterplot of Southern Hemisphere - Wind Speed (mph) vs. Latitude Linear Regression\n",
    "plt.scatter(south_hemisphere['Lat'],south_hemisphere['Wind Speed'])\n",
    "plt.xlabel('Latitude')\n",
    "plt.ylabel('Wind Speed (mph)')\n",
    "plt.title('South Hemisphere - Wind Speed (mph) vs. Latitude Linear Regression')\n",
    "plt.plot(south_hemisphere['Lat'],fit8,color='red')\n",
    "print(f'The r-value is: {rval**2}')"
   ]
  },
  {
   "cell_type": "code",
   "execution_count": null,
   "metadata": {},
   "outputs": [],
   "source": []
  }
 ],
 "metadata": {
  "anaconda-cloud": {},
  "kernel_info": {
   "name": "python3"
  },
  "kernelspec": {
   "display_name": "Python 3",
   "language": "python",
   "name": "python3"
  },
  "language_info": {
   "codemirror_mode": {
    "name": "ipython",
    "version": 3
   },
   "file_extension": ".py",
   "mimetype": "text/x-python",
   "name": "python",
   "nbconvert_exporter": "python",
   "pygments_lexer": "ipython3",
   "version": "3.7.6"
  },
  "latex_envs": {
   "LaTeX_envs_menu_present": true,
   "autoclose": false,
   "autocomplete": true,
   "bibliofile": "biblio.bib",
   "cite_by": "apalike",
   "current_citInitial": 1,
   "eqLabelWithNumbers": true,
   "eqNumInitial": 1,
   "hotkeys": {
    "equation": "Ctrl-E",
    "itemize": "Ctrl-I"
   },
   "labels_anchors": false,
   "latex_user_defs": false,
   "report_style_numbering": false,
   "user_envs_cfg": false
  },
  "nteract": {
   "version": "0.12.3"
  }
 },
 "nbformat": 4,
 "nbformat_minor": 2
}
